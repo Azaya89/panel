{
 "cells": [
  {
   "cell_type": "markdown",
   "id": "aaac1313-e203-4d79-82d1-a316671a2022",
   "metadata": {},
   "source": [
    "# Panel Modal\n",
    "\n",
    "A *modal* is an element that displays in front of and deactivates all other page content.\n",
    "\n",
    "Compared to the modal built in to Panels templates this modal provides more flexibility\n",
    "as it also works works without using templates and in notebooks.\n",
    "\n",
    "#### Parameters:\n",
    "\n",
    "For details on other options for customizing the component see the [layout](../../how_to/layout/index.md) and [styling](../../how_to/styling/index.md) how-to guides.\n",
    "\n",
    "* **``is_open``** (bool, default=False): Whether or not the modal is open. Set this to `True` to open the modal or `False` to close it.\n",
    "* **``show_close_button``** (bool, default=True): Whether to show a close button in the modal.\n",
    "\n",
    "#### Methods:\n",
    "\n",
    "* **``open``** (bool, default=False): Run this action to open the modal.\n",
    "* **``close``** (bool, default=False): Run this action to close the modal.\n",
    "\n",
    "___"
   ]
  },
  {
   "cell_type": "code",
   "execution_count": null,
   "id": "e57edfe6-3fbe-484e-963d-d93efef0aa5f",
   "metadata": {},
   "outputs": [],
   "source": [
    "import panel as pn\n",
    "import hvplot.pandas  # noqa\n",
    "import pandas as pd\n",
    "\n",
    "from panel import Modal\n",
    "\n",
    "pn.extension(\"modal\", sizing_mode=\"stretch_width\")"
   ]
  },
  {
   "cell_type": "markdown",
   "id": "72e383f8-b7fb-4beb-ba5e-08b0b7dcb915",
   "metadata": {},
   "source": [
    "Lets create some `content` to display in the `Modal`"
   ]
  },
  {
   "cell_type": "code",
   "execution_count": null,
   "id": "30043f44-4b4f-4090-b329-86007a342711",
   "metadata": {},
   "outputs": [],
   "source": [
    "age_list = [8, 10, 12, 14, 72, 74, 76, 78, 20, 25, 30, 35, 60, 85]\n",
    "df = pd.DataFrame({\"gender\": list(\"MMMMMMMMFFFFFF\"), \"age\": age_list})\n",
    "plot = df.hvplot.box(y='age', by='gender', height=400, legend=False, ylim=(0, None))\n",
    "\n",
    "content = pn.Column(\n",
    "    \"## Hi. I'm a *modal*\", plot, \"What a nice plot!\"\n",
    ")"
   ]
  },
  {
   "cell_type": "markdown",
   "id": "9374fa8e-925b-456c-982a-3d872f8d8ba9",
   "metadata": {},
   "source": [
    "Lets create the `modal`"
   ]
  },
  {
   "cell_type": "code",
   "execution_count": null,
   "id": "e15915df-cb6d-47d0-8513-463df5a847cc",
   "metadata": {},
   "outputs": [],
   "source": [
    "modal = Modal(content)"
   ]
  },
  {
   "cell_type": "markdown",
   "id": "f6a18d7e-c75a-4ddc-a6f4-4ebdb018bdfc",
   "metadata": {},
   "source": [
    "Let us create a `Column` *layout* containing and `open` button and the `modal`."
   ]
  },
  {
   "cell_type": "code",
   "execution_count": null,
   "id": "426d2a11-71d6-4fbd-b0c9-737c5ee4614e",
   "metadata": {},
   "outputs": [],
   "source": [
    "pn.Column(modal.param.open, modal, modal.param.is_open, modal.param.show_close_button).servable()"
   ]
  },
  {
   "cell_type": "markdown",
   "id": "afe4fdeb-6de6-4961-82ce-e7cf6e9671a5",
   "metadata": {},
   "source": [
    "Try clicking the *Open* button."
   ]
  }
 ],
 "metadata": {
  "language_info": {
   "name": "python",
   "pygments_lexer": "ipython3"
  }
 },
 "nbformat": 4,
 "nbformat_minor": 5
}
