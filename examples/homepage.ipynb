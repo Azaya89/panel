{
 "cells": [
  {
   "cell_type": "code",
   "execution_count": null,
   "metadata": {
    "tags": [
     "hide-input"
    ]
   },
   "outputs": [],
   "source": [
    "import panel as pn\n",
    "\n",
    "import pandas as pd\n",
    "import holoviews as hv\n",
    "\n",
    "from sklearn.cluster import KMeans\n",
    "\n",
    "pn.extension('ace', sizing_mode=\"stretch_width\")\n",
    "\n",
    "import hvplot.pandas"
   ]
  },
  {
   "cell_type": "markdown",
   "metadata": {},
   "source": [
    "## Slideshow"
   ]
  },
  {
   "cell_type": "code",
   "execution_count": null,
   "metadata": {},
   "outputs": [],
   "source": [
    "data = pd.read_csv(\"https://raw.githubusercontent.com/MarcSkovMadsen/awesome-panel-assets/master/panel/slideshow/index.csv\", index_col=\"name\")\n",
    "gifs = [row.gif for _,row in data.iterrows()]\n",
    "descriptions = [row.description for _,row in data.iterrows()]\n",
    "\n",
    "slider = pn.widgets.DiscreteSlider(value=list(data.index)[0], options=list(data.index), max_width=800)\n",
    "\n",
    "img = pn.pane.GIF(str(data.iloc[0][\"gif\"]), embed=False, height=400, sizing_mode=\"scale_height\")\n",
    "description = pn.pane.Markdown(data.iloc[0][\"description\"])\n",
    "\n",
    "slider._slider.jscallback(args={'img': img, \"description\": description}, value=f\"\"\"\n",
    "var gifs={gifs}\n",
    "var descriptions={descriptions}\n",
    "img.text = '<img src=\"' + gifs[cb_obj.value] + '\" style=\"height:100%;object-fit: cover\"></img>'\n",
    "description.text = descriptions[cb_obj.value]\n",
    "\"\"\")\n",
    "\n",
    "app = pn.Column(slider, img, description, name=\"Output\", height=550, max_width=800)\n",
    "\n",
    "ace = pn.widgets.Ace(readonly=True, height=500, language='python', value=\\\n",
    "\"\"\"\\\n",
    "import panel as pn\n",
    "import pandas as pd\n",
    "\n",
    "pn.extension(sizing_mode=\"stretch_width\")\n",
    "\n",
    "data = pd.read_csv(\"https://raw.githubusercontent.com/MarcSkovMadsen/awesome-panel-assets/master/panel/slideshow/index.csv\", index_col=\"name\")\n",
    "\n",
    "def slideshow(index):\n",
    "    return pn.Column(\n",
    "        pn.pane.GIF(data.loc[index][\"gif\"], embed=False, sizing_mode=\"scale_height\", height=400),\n",
    "        pn.pane.Markdown(data.loc[index][\"description\"]),\n",
    "    )\n",
    "\n",
    "slider = pn.widgets.DiscreteSlider(options=list(data.index))\n",
    "output = pn.bind(slideshow, slider)\n",
    "\n",
    "app = pn.Column(slider, output, max_width=800)\n",
    "app.servable()\"\"\", name=\"Code\")\n",
    "\n",
    "app1 = pn.Tabs(app, ace)\n",
    "app1"
   ]
  },
  {
   "cell_type": "markdown",
   "metadata": {},
   "source": [
    "## Penguins"
   ]
  },
  {
   "cell_type": "code",
   "execution_count": null,
   "metadata": {
    "tags": [
     "hide-input"
    ]
   },
   "outputs": [],
   "source": [
    "penguins = pd.read_csv('https://raw.githubusercontent.com/mwaskom/seaborn-data/master/penguins.csv').dropna()\n",
    "cols = list(penguins.columns)[2:6]\n",
    "\n",
    "x = pn.widgets.Select(name='x', options=cols)\n",
    "y = pn.widgets.Select(name='y', options=cols, value='bill_depth_mm')\n",
    "n_clusters = pn.widgets.IntSlider(name='n_clusters', start=2, end=5, value=3)\n",
    "\n",
    "def cluster(data, n_clusters):\n",
    "    kmeans = KMeans(n_clusters=n_clusters)\n",
    "    est = kmeans.fit(data)\n",
    "    return est.labels_.astype('str')\n",
    "\n",
    "def plot(x, y, n_clusters):\n",
    "    penguins['labels'] = cluster(penguins.iloc[:, 2:6].values, n_clusters)\n",
    "    penguins_plot = penguins.sort_values('labels').hvplot.scatter(\n",
    "        x, y, c='labels', hover_cols=['species'], line_width=1, size=100, responsive=True\n",
    "    ).opts(marker=hv.dim('species').categorize({'Adelie': 'square', 'Chinstrap': 'circle', 'Gentoo': 'triangle'}))\n",
    "    \n",
    "    centers = penguins.groupby('labels').mean()\n",
    "    centers_plot = centers.hvplot.scatter(\n",
    "        x, y, marker='x', color='black', padding=0.1, line_width=5, responsive=True, size=400\n",
    "    )         \n",
    "                     \n",
    "    return  penguins_plot * centers_plot\n",
    "\n",
    "explanation = pn.pane.Markdown(\"\"\"\n",
    "This app applies **k-means clustering on the Palmer Penguins dataset** using scikit-learn, parameterizing the number of clusters and the variables to plot.\n",
    "<br><br>\n",
    "Each cluster is denoted by one color while the penguin species is indicated using markers: \n",
    "<br><br>\n",
    "● - Adelie, ▲ - Gentoo, ■ - Chinstrap\"\"\", margin=(10,15))\n",
    "\n",
    "code = pn.widgets.Ace(language='python', height=360, value=\\\n",
    "\"\"\"import holoviews as hv\n",
    "import hvplot.pandas\n",
    "import pandas as pd\n",
    "from sklearn.cluster import KMeans\n",
    "\n",
    "import panel as pn\n",
    "\n",
    "pn.extension(sizing_mode=\"stretch_width\")\n",
    "\n",
    "penguins = pd.read_csv('https://raw.githubusercontent.com/mwaskom/seaborn-data/master/penguins.csv').dropna()\n",
    "\n",
    "def cluster(data, n_clusters):\n",
    "    kmeans = KMeans(n_clusters=n_clusters)\n",
    "    est = kmeans.fit(data)\n",
    "    return est.labels_.astype('str')\n",
    "\n",
    "def plot(x, y, n_clusters):\n",
    "    penguins['labels'] = cluster(penguins.iloc[:, 2:6].values, n_clusters)\n",
    "    penguins_plot = penguins.sort_values('labels').hvplot.scatter(\n",
    "        x, y, c='labels', hover_cols=['species'], line_width=1, size=100, responsive=True\n",
    "    ).opts(marker=hv.dim('species').categorize({'Adelie': 'square', 'Chinstrap': 'circle', 'Gentoo': 'triangle'}))\n",
    "    \n",
    "    centers = penguins.groupby('labels').mean()\n",
    "    centers_plot = centers.hvplot.scatter(\n",
    "        x, y, marker='x', color='black', padding=0.1, line_width=5, responsive=True, size=400\n",
    "    )         \n",
    "                     \n",
    "    return  penguins_plot * centers_plot\n",
    "\n",
    "cols = list(penguins.columns)[2:6]\n",
    "x = pn.widgets.Select(name='x', options=cols)\n",
    "y = pn.widgets.Select(name='y', options=cols, value='bill_depth_mm')\n",
    "n_clusters = pn.widgets.IntSlider(name='n_clusters', start=2, end=5, value=3)\n",
    "\n",
    "explanation = pn.pane.Markdown('''\n",
    "This app applies **k-means clustering on the Palmer Penguins dataset** using scikit-learn, parameterizing the number of clusters and the variables to plot.\n",
    "<br><br>\n",
    "Each cluster is denoted by one color while the penguin species is indicated using markers: \n",
    "<br><br>\n",
    "● - Adelie, ▲ - Gentoo, ■ - Chinstrap\n",
    "''', margin=(10,15))\n",
    "\n",
    "pn.Row(\n",
    "    pn.WidgetBox(x, y, n_clusters, explanation, width=250, sizing_mode=\"fixed\"),  \n",
    "    pn.panel(pn.bind(plot, x, y, n_clusters), sizing_mode=\"stretch_both\"),\n",
    ").servable()\"\"\", name=\"Code\")\n",
    "\n",
    "app2 = pn.Tabs(\n",
    "    pn.Row(\n",
    "        pn.WidgetBox(x, y, n_clusters, explanation, width=250, sizing_mode=\"fixed\"),  \n",
    "        pn.panel(pn.bind(plot, x, y, n_clusters), sizing_mode=\"stretch_both\"),\n",
    "        name=\"Output\"),\n",
    "    code\n",
    ")\n",
    "app2"
   ]
  },
  {
   "cell_type": "code",
   "execution_count": null,
   "metadata": {},
   "outputs": [],
   "source": [
    "pn.Tabs(\n",
    "  ('Slideshow', app1),\n",
    "  ('Penguin K-Means Clustering', app2),\n",
    ").embed(max_opts=4, json=True, json_prefix='json')"
   ]
  }
 ],
 "metadata": {
  "kernelspec": {
   "display_name": "Python 3 (ipykernel)",
   "language": "python",
   "name": "python3"
  },
  "language_info": {
   "codemirror_mode": {
    "name": "ipython",
    "version": 3
   },
   "file_extension": ".py",
   "mimetype": "text/x-python",
   "name": "python",
   "nbconvert_exporter": "python",
   "pygments_lexer": "ipython3",
   "version": "3.7.10"
  },
  "toc-autonumbering": false,
  "toc-showcode": true,
  "toc-showmarkdowntxt": true,
  "toc-showtags": true,
  "widgets": {
   "application/vnd.jupyter.widget-state+json": {
    "state": {},
    "version_major": 2,
    "version_minor": 0
   }
  }
 },
 "nbformat": 4,
 "nbformat_minor": 4
}
