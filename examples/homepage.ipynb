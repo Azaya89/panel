{
 "cells": [
  {
   "cell_type": "code",
   "execution_count": null,
   "metadata": {
    "tags": [
     "hide-input"
    ]
   },
   "outputs": [],
   "source": [
    "import panel as pn\n",
    "\n",
    "import pandas as pd\n",
    "import holoviews as hv\n",
    "\n",
    "from sklearn.cluster import KMeans\n",
    "\n",
    "pn.extension('ace', design='material')\n",
    "\n",
    "import hvplot.pandas"
   ]
  },
  {
   "cell_type": "code",
   "execution_count": null,
   "metadata": {
    "tags": [
     "hide-input"
    ]
   },
   "outputs": [],
   "source": [
    "penguins = pd.read_csv('https://datasets.holoviz.org/penguins/v1/penguins.csv').dropna()\n",
    "cols = list(penguins.columns)[2:6]\n",
    "\n",
    "x = pn.widgets.Select(name='x', options=cols, sizing_mode=\"stretch_width\")\n",
    "y = pn.widgets.Select(name='y', options=cols, value='bill_depth_mm', sizing_mode=\"stretch_width\")\n",
    "n_clusters = pn.widgets.IntSlider(name='n_clusters', start=2, end=5, value=3, sizing_mode=\"stretch_width\")\n",
    "\n",
    "def cluster(data, n_clusters):\n",
    "    kmeans = KMeans(n_clusters=n_clusters, n_init='auto')\n",
    "    est = kmeans.fit(data)\n",
    "    return est.labels_.astype('str')\n",
    "\n",
    "def plot(x, y, n_clusters):\n",
    "    penguins['cluster'] = cluster(penguins.iloc[:, 2:6].values, n_clusters)\n",
    "    centers = penguins.groupby('cluster').mean(numeric_only=True)\n",
    "    return (penguins.sort_values('cluster').hvplot.scatter(\n",
    "        x, y, c='cluster', hover_cols=['species'], line_width=1, size=60, frame_width=800, height=400, title=\"KMeans Clustering\", group_label='Cluster', cmap=\"colorblind\"\n",
    "    ).opts(marker=hv.dim('species').categorize({'Adelie': 'square', 'Chinstrap': 'circle', 'Gentoo': 'triangle'})) * centers.hvplot.scatter(\n",
    "        x, y, marker='x', color='black', size=400, padding=0.1, line_width=5, alpha=0.3\n",
    "    ))\n",
    "\n",
    "description = pn.pane.Markdown(\"\"\"\n",
    "This app applies *k-means clustering* on the Palmer Penguins dataset using scikit-learn, parameterizing the number of clusters and the variables to plot.\n",
    "<br><br>\n",
    "Each cluster is denoted by one color while the penguin species is indicated using markers: \n",
    "<br><br>\n",
    "● - Adelie, ■ - Chinstrap,  ▲ - Gentoo\n",
    "<br><br>\n",
    "By comparing the two we can assess the performance of the clustering algorithm.\n",
    "<br><br>\n",
    "Additionally the center of each cluster is marked with an `X`.\n",
    "<br><br>\n",
    "\"\"\", sizing_mode=\"stretch_width\")\n",
    "\n",
    "\n",
    "explanation = pn.pane.Markdown(\"\"\"\n",
    "**Species**\n",
    "\n",
    "Adelie: ●\\n\n",
    "Chinstrap: ■\\n\n",
    "Gentoo: ▲\n",
    "\"\"\")\n",
    "\n",
    "code = pn.widgets.CodeEditor(language='python', theme='monokai', width=700, height=360, value=\\\n",
    "'''\"\"\"KMeans Clustering App\"\"\"\n",
    "import panel as pn\n",
    "\n",
    "# Always run pn.extension to load javascript dependencies and more\n",
    "pn.extension()\n",
    "\n",
    "x = pn.widgets.Select(name='x', options=...)\n",
    "y = pn.widgets.Select(name='y', options=..., value='bill_depth_mm')\n",
    "n_clusters = pn.widgets.IntSlider(name='n_clusters', start=2, end=5, value=3)\n",
    "\n",
    "explanation = pn.pane.Markdown(...)\n",
    "\n",
    "def plot(x, y, n_clusters):\n",
    "    # You can use your favorite plotting library here\n",
    "    ...\n",
    "\n",
    "# Binds the plot to the widgets to make it interactive\n",
    "interactive_plot = pn.bind(plot, x, y, n_clusters)\n",
    "    \n",
    "pn.Row(\n",
    "    pn.WidgetBox(x, y, n_clusters, explanation),  \n",
    "    interactive_plot\n",
    ")''')\n",
    "\n",
    "app = pn.Tabs(\n",
    "    ('📈 App',\n",
    "        pn.Row(\n",
    "            pn.WidgetBox(pn.Spacer(height=10), x, y, n_clusters, explanation, sizing_mode=\"stretch_height\", width=175, margin=(35,10,60,10)),  \n",
    "            pn.bind(plot, x, y, n_clusters),                    )\n",
    "    ),\n",
    "    ('🐍 Code', code),\n",
    "    ('📖 Description', description)\n",
    ")\n",
    "\n",
    "pn.Row(\n",
    "    pn.layout.HSpacer(),\n",
    "    app,\n",
    "    pn.layout.HSpacer(),\n",
    ").embed(max_opts=4, json=True, json_prefix='json')"
   ]
  }
 ],
 "metadata": {
  "language_info": {
   "name": "python",
   "pygments_lexer": "ipython3"
  }
 },
 "nbformat": 4,
 "nbformat_minor": 4
}
