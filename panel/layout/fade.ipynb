{
 "cells": [
  {
   "cell_type": "code",
   "execution_count": null,
   "metadata": {},
   "outputs": [],
   "source": [
    "import panel as pn\n",
    "import xarray as xr\n",
    "import hvplot.xarray\n",
    "\n",
    "pn.extension()\n",
    "\n",
    "\n",
    "ds = xr.tutorial.open_dataset(\"air_temperature\")[\"air\"]\n",
    "pn.Fade(ds.isel(time=0).hvplot(clim=(230, 300)), ds.isel(time=-1).hvplot(clim=(230, 300)))"
   ]
  }
 ],
 "metadata": {
  "language_info": {
   "name": "python",
   "pygments_lexer": "ipython3"
  }
 },
 "nbformat": 4,
 "nbformat_minor": 2
}
